{
 "cells": [
  {
   "cell_type": "code",
   "execution_count": 1,
   "id": "82401fc5",
   "metadata": {},
   "outputs": [],
   "source": [
    "import tweepy,re\n",
    "import pandas as pd\n",
    "import matplotlib.pyplot as plt\n",
    "from textblob import TextBlob\n",
    "from nltk.corpus import stopwords\n",
    "from nltk.tokenize import word_tokenize\n",
    "from nltk.stem import WordNetLemmatizer"
   ]
  },
  {
   "cell_type": "code",
   "execution_count": 2,
   "id": "0f4eeda4",
   "metadata": {},
   "outputs": [],
   "source": [
    "consumerKey = 'GVyLjFOV2ppDfZeUZvyjE7VZk'\n",
    "consumerSecret = 'y0p4oSMgKsNEMNItfwtXtqFJUOiVSnFzZoYtSs5V7iWxVazgdP'\n",
    "accessToken = '1547829056262922240-l7BX0F3YbN2C3H6VcTM7yLhSa96n6d'\n",
    "accessTokenSecret = '994JBJmOYo8vEUVtqiquAaPI3Qq3AzIxGRfOCxmkESt6M'\n",
    "auth = tweepy.OAuthHandler(consumerKey,consumerSecret)\n",
    "auth.set_access_token(accessToken,accessTokenSecret)\n",
    "api = tweepy.API(auth)"
   ]
  },
  {
   "cell_type": "code",
   "execution_count": 3,
   "id": "5a003265",
   "metadata": {},
   "outputs": [
    {
     "name": "stdout",
     "output_type": "stream",
     "text": [
      "enter: Shahrukh Khan\n",
      "how many: 300\n"
     ]
    }
   ],
   "source": [
    "searchTerm = input('enter: ')\n",
    "NoOfTerms = int(input('how many: '))\n",
    "\n",
    "tweets = []\n",
    "tweetText = []\n",
    "\n",
    "tweets = tweepy.Cursor(api.search_tweets, q =searchTerm+\" -filter:retweets\", lang = \"en\").items(NoOfTerms)"
   ]
  },
  {
   "cell_type": "code",
   "execution_count": 4,
   "id": "ab7ef5c6",
   "metadata": {},
   "outputs": [],
   "source": [
    "tweet_list = [tweet.text for tweet in tweets]\n",
    "tweet_df = pd.DataFrame(tweet_list)"
   ]
  },
  {
   "cell_type": "code",
   "execution_count": 5,
   "id": "77a309ba",
   "metadata": {},
   "outputs": [
    {
     "data": {
      "text/html": [
       "<div>\n",
       "<style scoped>\n",
       "    .dataframe tbody tr th:only-of-type {\n",
       "        vertical-align: middle;\n",
       "    }\n",
       "\n",
       "    .dataframe tbody tr th {\n",
       "        vertical-align: top;\n",
       "    }\n",
       "\n",
       "    .dataframe thead th {\n",
       "        text-align: right;\n",
       "    }\n",
       "</style>\n",
       "<table border=\"1\" class=\"dataframe\">\n",
       "  <thead>\n",
       "    <tr style=\"text-align: right;\">\n",
       "      <th></th>\n",
       "      <th>0</th>\n",
       "    </tr>\n",
       "  </thead>\n",
       "  <tbody>\n",
       "    <tr>\n",
       "      <th>0</th>\n",
       "      <td>Watch: Shehnaaz Gill grooves to this Shah Rukh...</td>\n",
       "    </tr>\n",
       "    <tr>\n",
       "      <th>1</th>\n",
       "      <td>NEW IG REEL \\nBabieee continues with Shahrukh ...</td>\n",
       "    </tr>\n",
       "    <tr>\n",
       "      <th>2</th>\n",
       "      <td>#ShehnaazGiII recreates a scene from this #Sha...</td>\n",
       "    </tr>\n",
       "    <tr>\n",
       "      <th>3</th>\n",
       "      <td>Two greatest assets of our country all sanghis...</td>\n",
       "    </tr>\n",
       "    <tr>\n",
       "      <th>4</th>\n",
       "      <td>@SRKz_Knight @SandipB28369874 @iamsrk Love you...</td>\n",
       "    </tr>\n",
       "    <tr>\n",
       "      <th>...</th>\n",
       "      <td>...</td>\n",
       "    </tr>\n",
       "    <tr>\n",
       "      <th>295</th>\n",
       "      <td>@99Locus I mean it doesnt matter only if its s...</td>\n",
       "    </tr>\n",
       "    <tr>\n",
       "      <th>296</th>\n",
       "      <td>#SRK #NadiaNadim #Bollywood Nadia Nadim Reveal...</td>\n",
       "    </tr>\n",
       "    <tr>\n",
       "      <th>297</th>\n",
       "      <td>Would people be as crazed about PS-1 if they h...</td>\n",
       "    </tr>\n",
       "    <tr>\n",
       "      <th>298</th>\n",
       "      <td>@developingpak If i would be there i wouldn't ...</td>\n",
       "    </tr>\n",
       "    <tr>\n",
       "      <th>299</th>\n",
       "      <td>I would be lying if I say that I did not want ...</td>\n",
       "    </tr>\n",
       "  </tbody>\n",
       "</table>\n",
       "<p>300 rows × 1 columns</p>\n",
       "</div>"
      ],
      "text/plain": [
       "                                                     0\n",
       "0    Watch: Shehnaaz Gill grooves to this Shah Rukh...\n",
       "1    NEW IG REEL \\nBabieee continues with Shahrukh ...\n",
       "2    #ShehnaazGiII recreates a scene from this #Sha...\n",
       "3    Two greatest assets of our country all sanghis...\n",
       "4    @SRKz_Knight @SandipB28369874 @iamsrk Love you...\n",
       "..                                                 ...\n",
       "295  @99Locus I mean it doesnt matter only if its s...\n",
       "296  #SRK #NadiaNadim #Bollywood Nadia Nadim Reveal...\n",
       "297  Would people be as crazed about PS-1 if they h...\n",
       "298  @developingpak If i would be there i wouldn't ...\n",
       "299  I would be lying if I say that I did not want ...\n",
       "\n",
       "[300 rows x 1 columns]"
      ]
     },
     "execution_count": 5,
     "metadata": {},
     "output_type": "execute_result"
    }
   ],
   "source": [
    "tweet_df"
   ]
  },
  {
   "cell_type": "markdown",
   "id": "0b9f61be",
   "metadata": {},
   "source": [
    "## Cleaning Data"
   ]
  },
  {
   "cell_type": "markdown",
   "id": "34cfe0ee",
   "metadata": {},
   "source": [
    "- We have already scraped data from twitter and changed the tweets in the form of a dataframe.\n",
    "- It’s time to clean the data.\n",
    "- First define a function to clean the dataset."
   ]
  },
  {
   "cell_type": "code",
   "execution_count": 11,
   "id": "51596d98",
   "metadata": {},
   "outputs": [],
   "source": [
    "def clean_data(text):\n",
    "    return ' '.join(re.sub(\"(@[a-zA-Z0-9]+)|([^0-9A-Za-z])|(https:\\/\\/[\\w.]+\\/[\\w]+)\",\" \", text).split())\n",
    "tweet_df['cleaned_data'] = tweet_df[0].apply(clean_data)"
   ]
  },
  {
   "cell_type": "markdown",
   "id": "b04079ee",
   "metadata": {},
   "source": [
    "- Regular expressions are must for text analysis.\n",
    "- We will use the sub() function to replace all the words starting with @, text which does not contain numbers or alphabets, and links with space and then joined the rest of the text again.\n",
    "- Apply this function to the data and check if it worked or not. And see that the data has been somewhat cleaned."
   ]
  },
  {
   "cell_type": "code",
   "execution_count": 15,
   "id": "add9f969",
   "metadata": {
    "scrolled": true
   },
   "outputs": [
    {
     "data": {
      "text/html": [
       "<div>\n",
       "<style scoped>\n",
       "    .dataframe tbody tr th:only-of-type {\n",
       "        vertical-align: middle;\n",
       "    }\n",
       "\n",
       "    .dataframe tbody tr th {\n",
       "        vertical-align: top;\n",
       "    }\n",
       "\n",
       "    .dataframe thead th {\n",
       "        text-align: right;\n",
       "    }\n",
       "</style>\n",
       "<table border=\"1\" class=\"dataframe\">\n",
       "  <thead>\n",
       "    <tr style=\"text-align: right;\">\n",
       "      <th></th>\n",
       "      <th>0</th>\n",
       "      <th>cleaned_data</th>\n",
       "    </tr>\n",
       "  </thead>\n",
       "  <tbody>\n",
       "    <tr>\n",
       "      <th>0</th>\n",
       "      <td>Watch: Shehnaaz Gill grooves to this Shah Rukh...</td>\n",
       "      <td>Watch Shehnaaz Gill grooves to this Shah Rukh ...</td>\n",
       "    </tr>\n",
       "    <tr>\n",
       "      <th>1</th>\n",
       "      <td>NEW IG REEL \\nBabieee continues with Shahrukh ...</td>\n",
       "      <td>NEW IG REEL Babieee continues with Shahrukh Kh...</td>\n",
       "    </tr>\n",
       "    <tr>\n",
       "      <th>2</th>\n",
       "      <td>#ShehnaazGiII recreates a scene from this #Sha...</td>\n",
       "      <td>ShehnaazGiII recreates a scene from this ShahR...</td>\n",
       "    </tr>\n",
       "    <tr>\n",
       "      <th>3</th>\n",
       "      <td>Two greatest assets of our country all sanghis...</td>\n",
       "      <td>Two greatest assets of our country all sanghis...</td>\n",
       "    </tr>\n",
       "    <tr>\n",
       "      <th>4</th>\n",
       "      <td>@SRKz_Knight @SandipB28369874 @iamsrk Love you...</td>\n",
       "      <td>Knight Love you Mr Shahrukh Khan</td>\n",
       "    </tr>\n",
       "  </tbody>\n",
       "</table>\n",
       "</div>"
      ],
      "text/plain": [
       "                                                   0  \\\n",
       "0  Watch: Shehnaaz Gill grooves to this Shah Rukh...   \n",
       "1  NEW IG REEL \\nBabieee continues with Shahrukh ...   \n",
       "2  #ShehnaazGiII recreates a scene from this #Sha...   \n",
       "3  Two greatest assets of our country all sanghis...   \n",
       "4  @SRKz_Knight @SandipB28369874 @iamsrk Love you...   \n",
       "\n",
       "                                        cleaned_data  \n",
       "0  Watch Shehnaaz Gill grooves to this Shah Rukh ...  \n",
       "1  NEW IG REEL Babieee continues with Shahrukh Kh...  \n",
       "2  ShehnaazGiII recreates a scene from this ShahR...  \n",
       "3  Two greatest assets of our country all sanghis...  \n",
       "4                   Knight Love you Mr Shahrukh Khan  "
      ]
     },
     "execution_count": 15,
     "metadata": {},
     "output_type": "execute_result"
    }
   ],
   "source": [
    "tweet_df.head()"
   ]
  },
  {
   "cell_type": "markdown",
   "id": "37516726",
   "metadata": {},
   "source": [
    "- But still there is a lot more to do. We must clean the text data properly before applying any machine learning model.\n",
    "- You will remove numbers from the text.To do so, again you need to define a function which will drop numbers from the text."
   ]
  },
  {
   "cell_type": "code",
   "execution_count": 16,
   "id": "dbb9d3c3",
   "metadata": {},
   "outputs": [],
   "source": [
    "def drop_numbers(list_text):\n",
    "    list_text_new = []\n",
    "    \n",
    "    for i in list_text:\n",
    "        if not re.search('\\d',i):\n",
    "            list_text_new.append(i)\n",
    "    return ''.join(list_text_new)\n",
    "\n",
    "tweet_df['cleaned_data'] = tweet_df['cleaned_data'].apply(drop_numbers)"
   ]
  },
  {
   "cell_type": "markdown",
   "id": "e79a31d3",
   "metadata": {},
   "source": [
    "- Now, after defining the function you will apply it to the data.\n",
    "- Looking at the output, you can observe that all the numbers have been removed from the tweets."
   ]
  },
  {
   "cell_type": "code",
   "execution_count": 17,
   "id": "03218a7e",
   "metadata": {},
   "outputs": [
    {
     "data": {
      "text/html": [
       "<div>\n",
       "<style scoped>\n",
       "    .dataframe tbody tr th:only-of-type {\n",
       "        vertical-align: middle;\n",
       "    }\n",
       "\n",
       "    .dataframe tbody tr th {\n",
       "        vertical-align: top;\n",
       "    }\n",
       "\n",
       "    .dataframe thead th {\n",
       "        text-align: right;\n",
       "    }\n",
       "</style>\n",
       "<table border=\"1\" class=\"dataframe\">\n",
       "  <thead>\n",
       "    <tr style=\"text-align: right;\">\n",
       "      <th></th>\n",
       "      <th>0</th>\n",
       "      <th>cleaned_data</th>\n",
       "    </tr>\n",
       "  </thead>\n",
       "  <tbody>\n",
       "    <tr>\n",
       "      <th>0</th>\n",
       "      <td>Watch: Shehnaaz Gill grooves to this Shah Rukh...</td>\n",
       "      <td>Watch Shehnaaz Gill grooves to this Shah Rukh ...</td>\n",
       "    </tr>\n",
       "    <tr>\n",
       "      <th>1</th>\n",
       "      <td>NEW IG REEL \\nBabieee continues with Shahrukh ...</td>\n",
       "      <td>NEW IG REEL Babieee continues with Shahrukh Kh...</td>\n",
       "    </tr>\n",
       "    <tr>\n",
       "      <th>2</th>\n",
       "      <td>#ShehnaazGiII recreates a scene from this #Sha...</td>\n",
       "      <td>ShehnaazGiII recreates a scene from this ShahR...</td>\n",
       "    </tr>\n",
       "    <tr>\n",
       "      <th>3</th>\n",
       "      <td>Two greatest assets of our country all sanghis...</td>\n",
       "      <td>Two greatest assets of our country all sanghis...</td>\n",
       "    </tr>\n",
       "    <tr>\n",
       "      <th>4</th>\n",
       "      <td>@SRKz_Knight @SandipB28369874 @iamsrk Love you...</td>\n",
       "      <td>Knight Love you Mr Shahrukh Khan</td>\n",
       "    </tr>\n",
       "  </tbody>\n",
       "</table>\n",
       "</div>"
      ],
      "text/plain": [
       "                                                   0  \\\n",
       "0  Watch: Shehnaaz Gill grooves to this Shah Rukh...   \n",
       "1  NEW IG REEL \\nBabieee continues with Shahrukh ...   \n",
       "2  #ShehnaazGiII recreates a scene from this #Sha...   \n",
       "3  Two greatest assets of our country all sanghis...   \n",
       "4  @SRKz_Knight @SandipB28369874 @iamsrk Love you...   \n",
       "\n",
       "                                        cleaned_data  \n",
       "0  Watch Shehnaaz Gill grooves to this Shah Rukh ...  \n",
       "1  NEW IG REEL Babieee continues with Shahrukh Kh...  \n",
       "2  ShehnaazGiII recreates a scene from this ShahR...  \n",
       "3  Two greatest assets of our country all sanghis...  \n",
       "4                   Knight Love you Mr Shahrukh Khan  "
      ]
     },
     "execution_count": 17,
     "metadata": {},
     "output_type": "execute_result"
    }
   ],
   "source": [
    "tweet_df.head()"
   ]
  },
  {
   "cell_type": "markdown",
   "id": "a9f0f64a",
   "metadata": {},
   "source": [
    "- We are halfway through the cleaning process.\n",
    "- Now it’s time for the lemmatization process but before that you will convert all words to lowercase.\n",
    "- For that again, define a function and convert everything to lowercase."
   ]
  },
  {
   "cell_type": "code",
   "execution_count": 18,
   "id": "0b463800",
   "metadata": {},
   "outputs": [],
   "source": [
    "# changing all the words of the review column to lowercase letters\n",
    "\n",
    "def lower_case(text):\n",
    "    text_word = word_tokenize(text)\n",
    "    text_word_lower = [i.lower() for i in text_word]\n",
    "    return ' '.join(text_word_lower)\n",
    "\n",
    "tweet_df['cleaned_data'] = tweet_df['cleaned_data'].apply(lower_case)"
   ]
  },
  {
   "cell_type": "code",
   "execution_count": 19,
   "id": "82a5b154",
   "metadata": {},
   "outputs": [
    {
     "data": {
      "text/html": [
       "<div>\n",
       "<style scoped>\n",
       "    .dataframe tbody tr th:only-of-type {\n",
       "        vertical-align: middle;\n",
       "    }\n",
       "\n",
       "    .dataframe tbody tr th {\n",
       "        vertical-align: top;\n",
       "    }\n",
       "\n",
       "    .dataframe thead th {\n",
       "        text-align: right;\n",
       "    }\n",
       "</style>\n",
       "<table border=\"1\" class=\"dataframe\">\n",
       "  <thead>\n",
       "    <tr style=\"text-align: right;\">\n",
       "      <th></th>\n",
       "      <th>0</th>\n",
       "      <th>cleaned_data</th>\n",
       "    </tr>\n",
       "  </thead>\n",
       "  <tbody>\n",
       "    <tr>\n",
       "      <th>0</th>\n",
       "      <td>Watch: Shehnaaz Gill grooves to this Shah Rukh...</td>\n",
       "      <td>watch shehnaaz gill grooves to this shah rukh ...</td>\n",
       "    </tr>\n",
       "    <tr>\n",
       "      <th>1</th>\n",
       "      <td>NEW IG REEL \\nBabieee continues with Shahrukh ...</td>\n",
       "      <td>new ig reel babieee continues with shahrukh kh...</td>\n",
       "    </tr>\n",
       "    <tr>\n",
       "      <th>2</th>\n",
       "      <td>#ShehnaazGiII recreates a scene from this #Sha...</td>\n",
       "      <td>shehnaazgiii recreates a scene from this shahr...</td>\n",
       "    </tr>\n",
       "    <tr>\n",
       "      <th>3</th>\n",
       "      <td>Two greatest assets of our country all sanghis...</td>\n",
       "      <td>two greatest assets of our country all sanghis...</td>\n",
       "    </tr>\n",
       "    <tr>\n",
       "      <th>4</th>\n",
       "      <td>@SRKz_Knight @SandipB28369874 @iamsrk Love you...</td>\n",
       "      <td>knight love you mr shahrukh khan</td>\n",
       "    </tr>\n",
       "  </tbody>\n",
       "</table>\n",
       "</div>"
      ],
      "text/plain": [
       "                                                   0  \\\n",
       "0  Watch: Shehnaaz Gill grooves to this Shah Rukh...   \n",
       "1  NEW IG REEL \\nBabieee continues with Shahrukh ...   \n",
       "2  #ShehnaazGiII recreates a scene from this #Sha...   \n",
       "3  Two greatest assets of our country all sanghis...   \n",
       "4  @SRKz_Knight @SandipB28369874 @iamsrk Love you...   \n",
       "\n",
       "                                        cleaned_data  \n",
       "0  watch shehnaaz gill grooves to this shah rukh ...  \n",
       "1  new ig reel babieee continues with shahrukh kh...  \n",
       "2  shehnaazgiii recreates a scene from this shahr...  \n",
       "3  two greatest assets of our country all sanghis...  \n",
       "4                   knight love you mr shahrukh khan  "
      ]
     },
     "execution_count": 19,
     "metadata": {},
     "output_type": "execute_result"
    }
   ],
   "source": [
    "tweet_df.head()"
   ]
  },
  {
   "cell_type": "markdown",
   "id": "bcc93e7b",
   "metadata": {},
   "source": [
    "- After converting the text to lowercase, it’s time for the lemmatization process.\n",
    "- Lemmatization is the process of converting a word to its base form.\n",
    "- Lemmatization considers the context and converts the word to its meaningful base form.\n",
    "- For example, “good” and “better”, you have these two words. With lemmatization, “better” is converted to its root form, that is, “good”.\n",
    "- Both words mean the same thing. So you convert them to the base word."
   ]
  },
  {
   "cell_type": "code",
   "execution_count": 21,
   "id": "5e82a44b",
   "metadata": {},
   "outputs": [],
   "source": [
    "lemmatizer = WordNetLemmatizer()\n",
    "def lemmatise(text):\n",
    "    text_tokens = word_tokenize(text)\n",
    "    text_words_lemma = [lemmatizer.lemmatize(i) for i in text_tokens]\n",
    "    return \" \".join(text_words_lemma)\n",
    "\n",
    "tweet_df['cleaned_data'] = tweet_df['cleaned_data'].apply(lemmatise)"
   ]
  },
  {
   "cell_type": "code",
   "execution_count": 25,
   "id": "fe61143a",
   "metadata": {},
   "outputs": [
    {
     "data": {
      "text/plain": [
       "array(['watch shehnaaz gill groove to this shah rukh khan song in goofy video',\n",
       "       'new ig reel babieee continues with shahrukh khan song cutest munchkin gill go watch on a loo',\n",
       "       'shehnaazgiii recreates a scene from this shahrukhkhan movie baazigar bollywood instagram reel',\n",
       "       'two greatest asset of our country all sanghis are insecure of taj mahal and shahrukh khan',\n",
       "       'knight love you mr shahrukh khan',\n",
       "       'hamid ansari umar khalid aamir khan shahrukh khan mohd zubair shajeel imam siddique kappan they can blame these',\n",
       "       'shahrukh khan jaisa hakla aaj biggest superstar of indian cinema hai world nd richest',\n",
       "       'he only man who deserve king name that is shahrukh khan he is the man who made famous bollywood globallly',\n",
       "       'shahrukh khan mocking arnab goswami and alia bhatt s evil laughter',\n",
       "       'shahrukh khan mocking arnab goswami and alia bhatt s evil laughter boycottbollywood',\n",
       "       'do u know the incident of shahrukh khan india demanded apology and we only think this intrusion is',\n",
       "       'negativityxd shahrukh khan update version',\n",
       "       'whenever the country needed it then shahrukh khan ha supported the country but i want to know',\n",
       "       'my mom saw this and asked what is shahrukh khan doing on your screen',\n",
       "       'met shahrukh khan he wa literally so sweet to me and my friend wa joking around and even called me his riv',\n",
       "       'stage khan amir salman saif and the the greatest shahrukh no one change their name now like',\n",
       "       'if i send you it mean shahrukh khan is otw',\n",
       "       'the sluttiest thing a man can do is be shahrukh khan',\n",
       "       'dear do not copy our shahrukh khan s dialogue',\n",
       "       'there s no such thing a a bad shahrukh khan movie kamala is correct',\n",
       "       'important news for all salman khan fan megastar salman khan shahrukh khan and tamil director ar murugados',\n",
       "       'shahrukh khan marketed gap better than any american could ever dream of',\n",
       "       'important news megastar salman khan shahrukh khan and ar murugadoss secret meeting for a new movie',\n",
       "       'i remember when my mom first got facebook she thought shahrukh khan added on her on it but i had to break the news',\n",
       "       'shahrukh khan if you see this i love you bestie',\n",
       "       'i can t believe shahrukh khan is real like i love him so much and he s really been my biggest connection to love an',\n",
       "       'you re shahrukh khan',\n",
       "       'also while rukh shah ha a name similar to the indian actor shah rukh khan i think it s moreso they named him afte',\n",
       "       'shahrukh khan mocking arnab goswami and alia bhatt laughing like a witch her evil laughter is so irritating',\n",
       "       'for one bollywood ha more actor than just shahrukh or salman and more khan than the two a well sec',\n",
       "       'not movie rekated but sunghoon gon na do the iconic shahrukh khan pose in front of his edited car',\n",
       "       'i feel like i am saif ali khan in kal ho na ho but without preity zinta imagine that and forget about a shahrukh khan',\n",
       "       'badshah of bollywood shahrukh khan arrived at mumbai airport bollywoodchronicle shahrukhkhan bollywoodstyle',\n",
       "       'i totally believe you what about shahrukh khan though',\n",
       "       'it s giving shahrukh khan s dialogue from om shanti om vibe',\n",
       "       'never seen a boring movie like samratprithiviraj since a long time plz come out of ur bubble bef',\n",
       "       'woah leave shahrukh khan out of ur misery',\n",
       "       'and then people are astounded by his popularity and everything no one can match shahrukh khan when it come to hum',\n",
       "       'i think it s more to do with the idea of shahrukh khan for year shahrukh khan s aura ha been unmatc',\n",
       "       'you can t blame bengali when it s shahrukh khan',\n",
       "       'king khan arrives at the airport tonight bollywood shahrukhkhan kingkhan srk kingofbollywood',\n",
       "       'shahrukh khan is really great man even he know largest hate campaign against him and largest decline of bollywood',\n",
       "       'king khan arrives at the airport tonight follow koimoi bollywood shahrukhkhan',\n",
       "       'badshah of bollywood shahrukh khan clicked at airport shahrukhkhan srk srkians spotted fifafooz',\n",
       "       'it giving shahrukh khan amp', 'you mean shahrukh khan isn t ugly',\n",
       "       'no u got ta think asian includes indian and yk they love the n word the same way u love shahrukh khan',\n",
       "       'no i am just a run of the mill white american gal but i really love bollywood musical and who could',\n",
       "       'those making an issue of lalit modi s age should think again he is only four year older than rahul gandhi and one',\n",
       "       'if suhmita sen would marry salman khan shahrukh khan amir khan sunil shety or anil kapo',\n",
       "       'at this point i wouldn t be surprised if hobi invited shahrukh khan a a guest',\n",
       "       'leonardo di caprio shahrukh khan or whichever the biggest brand out there they still need strong marketing a inte',\n",
       "       'it wa exactly year ago on th july that shahrukh khan launched sania mirza s autobiography ace against odds',\n",
       "       'shahrukhkhan and salmankhan are coming together for a full fledged feature length film and it s not for',\n",
       "       'shahrukhkhan and salmankhan are coming together for a full fledged feature length film and it s not for',\n",
       "       'repost it wa exactly year ago on th july that shahrukh khan launched sania mirza s autobiograp',\n",
       "       'still shahrukh khan called the king of bollywood',\n",
       "       'in desperately seeking shah rukh decodes the emotional hustle of love the economic determinant of l',\n",
       "       'p imagine not knowing shahrukh khan',\n",
       "       'shahrukh khan is most well known person of india all over the world go to any country all over th',\n",
       "       'the male lead is so sorry shahrukh khan',\n",
       "       'no shahrukh khan in dear zindagi a dr jahangir kuchh bhi over the top nahi he is sensitive sensible mature',\n",
       "       'isart i will go for nd',\n",
       "       'his acting is of nepotism kid ranbir kapoor but he is a peaceful actor who collect revenu',\n",
       "       'idc idc i can watch anything that ha shahrukh khan in it',\n",
       "       'success is not a good teacher failure make you humble shahrukh khan gailfm forda ep',\n",
       "       'news alert salman khan and shahrukh khan come together with yrf news confirmed source box office medium b',\n",
       "       'biggest exclusive news break part shahrukhkhan and salman khan to star in this director s next read detail',\n",
       "       'da da da da darr shahrukh khan wa the antagonist in the film fun fact the main protagonist o',\n",
       "       'the entry of this super successful actor in shahrukh khan s movie jawan',\n",
       "       'if shahrukh khan saw priti patel in a field then he d run the other way',\n",
       "       'watching devdas today because i miss shahrukh khan',\n",
       "       'shahrukh khan is most well known person of india all over the world go to any country all over the worl',\n",
       "       'repost it wa exactly year ago on th july that shahrukh khan launched sania mirza s autobio',\n",
       "       'shahrukh khan new pic srk latest srk pic',\n",
       "       'very shahrukh khan of you',\n",
       "       'watching devdas and man shahrukh khan and aishwarya rai in same movie they really did something',\n",
       "       'supreme court s decision on vonc ha taken imran khan amp co to the cleaner sc reject foreign conspiracy theory',\n",
       "       'shahrukh khan follows vijay malya but not pm of india what may be the reason',\n",
       "       'can we pls have shahrukh khan voice a genshin character and have him sing kuch kuch hota hai',\n",
       "       'hey heyy at least we have shahrukh khan',\n",
       "       'you won t understand garibo ke shahrukh khan vidyut u much above your level to understand chill maar chutiye',\n",
       "       'this wa explained very well in the movie swades by shahrukh khan s grand mother',\n",
       "       'somebody called shahrukh khan hollywood celebrity goodbye',\n",
       "       'shahrukh khan once said he want to be remembered a the person who tried who tried very hard',\n",
       "       'one n only shahrukh khan',\n",
       "       'bollywood is like afghanistan and mr shahrukh khan is like king for afghanistan',\n",
       "       'i request to all shahrukhkhan and salmankhan fan that please don t fight with each other because they are good',\n",
       "       'happy birthday upen yadav',\n",
       "       'fb shahrukh khan ha most craziest whenever his trailer teaser news release it trend on no outside mann',\n",
       "       'omg is that shahrukh khan the hollywood celebrity from which movie',\n",
       "       'a per him till recently srilanka wa doing well amp suddenly they are now doing badly out of the blue like today',\n",
       "       'this emoji is shahrukh khan for min in every movie',\n",
       "       'claptown then why those footfall not getting converted into box office number see we don t e',\n",
       "       'no one is talking about kanhaiyalal and umeshkolhe shame on you bullywood',\n",
       "       'siab a a sindhi did you offer any condemnation when shahr',\n",
       "       'shahrukh khan yeh dialogue bhi aisa kuch kehta hai without any behavioural science',\n",
       "       'shahrukh khan in rocketry watch rocketry movie review on digitalmovies youtube channel open this',\n",
       "       'shahrukh khan busy take money filmfare award',\n",
       "       'you make me happy everyday i can t stop watching this video i love you shahrukh khan banke tera',\n",
       "       'for those who don t know shahrukh khan s father wa a civil engineer and head of various mega project',\n",
       "       'shahrukh khan is easily the most charismatic man on the earth no one can beat him in this department',\n",
       "       'he is obsessed with shahrukh khan but so am i rab ne bana di jodi',\n",
       "       'fb if you will ask any foreigner what s the first thing that come to your mind when you hear about india t',\n",
       "       'bollywood in present era is urduwood n it worth watching kahn magic won t work now a hindu ha',\n",
       "       'the shahrukh khan contact email is wrong',\n",
       "       'till recently they were doing well amp suddenly they are now doing badly out of the blu',\n",
       "       'shahrukh khan s eye gt gt everyone else',\n",
       "       'wow i really liked this clip this guy so cutely sadi shahrukh khan brother wowwww',\n",
       "       'countdown start a biggest day a big celebration held in nd november in mannat bandstand a big birthday world bigge',\n",
       "       'k a amir khan and shahrukh khan won t touch this script',\n",
       "       'what about salman khan shahrukh khan and amir khan',\n",
       "       'say it in shahrukh khan s voice now',\n",
       "       'don t you think sanju samson shahrukh khan amp others must be backed on a regular basis',\n",
       "       'nhi sasta shahrukh khan hai that s what everyone say lmao',\n",
       "       'it is saying that if you really desire something from the heart then the whole universe will work towards getting you that shahrukh khan',\n",
       "       'fb undoubtedly shahrukh khan',\n",
       "       'sachin tendulkar shahrukh khan they are the biggest star of india',\n",
       "       'can t help but think that if bollywood had made an hindi live action version of aladdin in the s he should have',\n",
       "       'how abt that punar janm one i don t remember it s name where they die and with such small time they',\n",
       "       'yogesh shahrukh khan tyre amp welding repair',\n",
       "       'would you like to sing for shahrukh khan sir askasim',\n",
       "       'why is still the baadshah of bollywood today know what make him the most special amp the most dif',\n",
       "       'would you like to sing for shahrukh khan sir askasim',\n",
       "       'would you like to sing for shahrukh khan sir askasim',\n",
       "       'shahrukh khan in snoop dog outfit',\n",
       "       'qfs another source told me he s a shahrukh khan cartoon don t know who to believe',\n",
       "       'once shahrukh khan said people will take your advice suggestion or motivation only if you are rich and that s fact',\n",
       "       'ready tum bakch kam karo salman ko bhi pata hain shahrukh ap',\n",
       "       'success is not a good teacher failure make you humble shahrukh khan',\n",
       "       'pakistan is facing a water shortage crisis see how the country use technology to help navigate around the issue',\n",
       "       'pakistan is facing a water shortage crisis see how the country use technology to help navigate around the issue',\n",
       "       'hum hai haven t watched a single salman shahrukh khan movie till now in the theatre',\n",
       "       'ujval there wa much parenting advice directed at shahrukh amp gauri khan in between',\n",
       "       'oh to be romanced by shahrukh khan while he erotically put bangle in your hand',\n",
       "       'ka deewana just like shahrukh khan his fan are so sweet shehnaazgill',\n",
       "       'dhoni wa happy to see shah rukh khan in the stadium video go viral',\n",
       "       'need a girlfriend who can vibe with me on shahrukh khan movie and romance with me on his song',\n",
       "       'sooraj barjatya inspired aditya chopra in true sense both made their first three movie biggest hit and forth a f',\n",
       "       'becoz of the mistake of salman khan shahrukh khan threw aishwarya ra',\n",
       "       'delhi s thapa khan shahrukh planned moosewala killing in jan report',\n",
       "       'peak no way my idol salman khan is being exposed by many people again and again your idol is dad of my idol salman bhai',\n",
       "       'i remember when shahrukh khan s fan released my dad had promised me that if i got in my math monday test h',\n",
       "       'shahrukh khan in rocketry watch rocketry movie review on digitalmovies youtube channel open this',\n",
       "       'amitabh bachchan and shahrukh khan are best actor of indian cenema arijit singh and shreya ghoshal are',\n",
       "       'aryan khan son of superstar shahrukh khan get his passport back in the fake drug case foisted by sameer wankhede',\n",
       "       'yes shahrukh khan s chalte chalte',\n",
       "       'will you replace photo of your father with shahrukh khan just because he is more handsome whats next will you rep',\n",
       "       'happy guru poornima my idol shahrukh khan sir you taught me a lot i grew up watching your film interv',\n",
       "       'news channel chased shahrukh khan s son for month for gm but despite multiple news floating from adani contr',\n",
       "       'listen punjabi song in full bass',\n",
       "       'blaming shahrukh khan for setting my expectation so high for love',\n",
       "       'after shahrukh khan i guess',\n",
       "       'someone said shahrukh khan karankundrra kkundrrasquad tejran',\n",
       "       'this film should do crore at indian box office a the budget of the film is very high it wi',\n",
       "       'never thought i d hate a shahrukh khan movie let alone one with deepika however i m here to announce i absolutely',\n",
       "       'sir rocketry would have been an amazing movie if u wouldn t have taken shahrukh khan in the cameo',\n",
       "       'wrong question it should be why is shahrukh khan still the king of the world shahrukhkhan',\n",
       "       'person in middle wearing black shalwar qameez look like shahrukh khan',\n",
       "       'maybe shahrukh khan came for a private dance party of some rich lahori s shadi kabhi positive na sochna',\n",
       "       'video when lalu forgot his daughter after seeing shahrukh khan in front',\n",
       "       'when it come to film shahrukh khan is greater than anyone for me i just keep watching his film even they are',\n",
       "       'one of the module in moose wala wa having delhi connection another attempt wa made in january forensic report',\n",
       "       'explosive delhi s shahrukh aman khan amp thapa planned moosewala killing in jan the new indian only on',\n",
       "       'they have just made an series about pakistani girl kamala khan with farhan and shahrukh cameo total secular series',\n",
       "       'shahrukh khan s film dunki will be shot in europe and london detail inside shahrukh khan s film dunki will be sh',\n",
       "       'this is a shahrukh khan stan acc',\n",
       "       'i am like a kid i tell my family and friend i m like a kid shahrukh khan sidehustle digitalmarketing',\n",
       "       'khali is an international celebrity from tomorrow toll people will start asking icard to shahrukh khan salman khan and modi',\n",
       "       'top exclusive delhi s thapa khan shahrukh planned moosewala killing in jan report for',\n",
       "       'ak bore and mm pistol were supplied by govindthapa shahrukh khan amp aman khan from delhi s dakshin puri',\n",
       "       'top in exclusive delhi s thapa khan shahrukh planned moosewala killing in january',\n",
       "       'explosive delhi s shahrukh aman khan amp thapa planned moosewala killing in jan the new indian only on',\n",
       "       'explosive delhi s shahrukh aman khan amp thapa planned moosewala killing in jan the new indian only on',\n",
       "       'nandan even if he s the best of the best still can t blame brand like that for n',\n",
       "       'i am like a kid i tell my family and friend i m like a kid shahrukh khan businesstip digitalmarketing',\n",
       "       'wow celebrating one of my favourite movie year of devdas released on th july in beautiful movie and song',\n",
       "       'my name is khan will always be my personal favourite of shahrukh khan',\n",
       "       'ted lasso is the shahrukh khan of american television',\n",
       "       'pathaan reminds u all that shahrukh khan ruled for year the man is the epitome of excellence gave u great',\n",
       "       'i have changed my mind now i want a villa in palm jumeirah next to shahrukh khan s villa',\n",
       "       'shahrukh khan and kajol have the strongest on screen chemistry',\n",
       "       'in the first pic he look like shahrukh khan and in the second pic he look like rajpal yadav',\n",
       "       'i hate shahrukh khan for promoting byjus a it is a fraud organization shahrukh khan is my idle by i hate him just for this',\n",
       "       'in that film you must know aaryan khanna a big movie star shahrukh khan sir is not like aaryan khanna h',\n",
       "       'this wa a master piece my favorit couple shahrukh khan and ishwarya rai love madhuri too',\n",
       "       'it s okay to be confused confusion is the route to all the clarity in the world shahrukh khan happybirthdayasimriaz',\n",
       "       'how pathetic shahrukh khan captaincy is',\n",
       "       'life begin when we decide it s going to begin for u shahrukh khan happybirthdayasimriaz',\n",
       "       'you never win the silver you only lose the gold shahrukh khan happybirthdayasimriaz',\n",
       "       'live now live today don t be bound by rule live your own dream shahrukh khan happybirthdayasimriaz',\n",
       "       'whenever you re feeling down and i am not around let the sight of me be the reason you smile shahrukh khan happybirthdayasimriaz',\n",
       "       'live laugh love every day to it s fullest for who know tomorrow may not be shahrukh khan happybirthdayasimriaz',\n",
       "       'you can love me or hate me but you can t ignore me shahrukh khan happybirthdayasimriaz',\n",
       "       'if you like me raise your hand if you don t raise your standard shahrukh khan happybirthdayasimriaz',\n",
       "       'study hard work hard play harder don t be bound by rule don t hurt anybody and never ever live somebody else',\n",
       "       'i trust two people myself and the other is not you it god shahrukh khan happybirthdayasimriaz',\n",
       "       'stand by what you believe in people who mind won t matter and people who matter won t mind it shahrukh khan happybirthdayasimriaz',\n",
       "       'sometimes you need to let people feel important by disliking you it s their little happiness shahrukh khan happybirthdayasimriaz',\n",
       "       'if you want to become something achieve something in life then always listen to your heart shahrukh khan happybirthdayasimriaz',\n",
       "       'there is no right time and right place for love it can happen any time shahrukh khan happybirthdayasimriaz',\n",
       "       'shahrukh khan m of lyca kovai king acknowledges the cheer of the crowd after scoring half century against chepauk',\n",
       "       'can actor shahrukh khan comment on the first pic',\n",
       "       'fifty for finn allen and shahrukh khan did i missed any other batsman',\n",
       "       'yaarpako i m obsessed because of shahrukh khan',\n",
       "       'inning break lyca kovai king in over shahrukh khan m divakar r score',\n",
       "       'fifty for shahrukh khan in just ball tnpl',\n",
       "       'shahrukh khan m off ball x x score or download the tnpl live app',\n",
       "       'ttb he is a little taller than average height in india his body physique make him look short shahrukh khan sal',\n",
       "       'before aryan arrest ncb chif we will take action against every drug addict after aryan clean chit ncb chif',\n",
       "       'eat shahrukh khan le bhaneko jati is the only right answer',\n",
       "       'srkians can fck solely all hater autowala fandom give blowjob to chakkians and sometimes tiktiktards but for srk',\n",
       "       'listening to shahrukh khan song is exactly what i need to feel better after a hectic day',\n",
       "       'fb main lead shahrukh khan antagonist sj surya vijay sethupathi director atlee music director anirudh r',\n",
       "       'we advise shahrukh khan not to copy dilip kumar',\n",
       "       'not a film for people that the weather wa going on at that time shahrukh khan s time sanjay leela bhansali yearsofdevdas',\n",
       "       'don t have extreme favs but i admire siddharth malhotra varun dhawan and shahrukh khan',\n",
       "       'shahrukh khan is called the king of bollywood because his acting is so good sanjay leela bhansali yearsofdevdas',\n",
       "       'shahrukh khan ha always been an amazing actor and the proof is devdas which wa made year ago sanjay leela bhansali yearsofdevdas',\n",
       "       'a best performance of shahrukh khan in sanjay leela bhansali s movie devdas everyone is soo happy to celebrate',\n",
       "       'my favourite actor shahrukh khan movie ha completed it year but still this movie give the felling of latest m',\n",
       "       'i really enjoy this movie shahrukh khan and aishwarya rai in my opinion looked stunning sanjay leela bhansali yearsofdevdas',\n",
       "       'the way shahrukh khan acted in it wa amazing sanjay leela bhansali yearsofdevdas',\n",
       "       'i really love the movie devdas and you should all watch it on it th anniversary all thanks to shahrukh khan and',\n",
       "       'shahrukh khan is the great guy bollywood all time and shah rukh khan really amazing one sanjay leela bhansali yearsofdevdas',\n",
       "       'celebrate the year of this amazing movie of shahrukh khan after all is my favourite one sanjay leela bhansali yearsofdevdas',\n",
       "       'success is not a good teacher failure make you humble shahrukh khan',\n",
       "       'devdas is the only movie in which a different story of shahrukh khan wa shown yearsofdevdas',\n",
       "       'devdas movie shahrukh khan had a different addiction trend yearsofdevdas',\n",
       "       'devdas is truly a masterpiece of indian cinema every shot of this film is like an artist s canvas and shahrukh kha',\n",
       "       'columbans you and shahrukh khan must have been in school at same time',\n",
       "       'by watching this very amazing movie i became the fan of shahrukh khan yearsofdevdas',\n",
       "       'i have always loved this movie and the duo of shahrukh khan and aishwarya rai yearsofdevdas',\n",
       "       'so memorable day and no one could have justified the role of devdas better than srk god of acting for a reason',\n",
       "       'more than of india ha watch this movie only because of my favourite actress shahrukh khan let s celebrate the',\n",
       "       'in this whole movie i really love the duo of aishwarya rai and shahrukh khan and still want to see on the big screen yearsofdevdas',\n",
       "       'so memorable day and no one could have justified the role of devdas better than srk god of acting for a reason',\n",
       "       'can t believe shahrukh khan s strarer devdas completed year yearsofdevdas',\n",
       "       'such a good movie shahrukh khan career best performance best acting what a director slb can t believe this one',\n",
       "       'yearsofdevdas the movie wa truly an epic creation in the history of bollywood movie really love the amazing ch',\n",
       "       'so memorable day and no one could have justified the role of devdas better than srk god of acting for a reason',\n",
       "       'one of my favourite movie of shahrukh khan sir devdas successfully completed year',\n",
       "       'celebrate the year of one of the finest classic cult devdas acting kf shahrukh khan is classic sanjay leela',\n",
       "       'the story of this wonderful movie is so famous and also the acting of my favourite shahrukh khan in it wa really good yearsofdevdas',\n",
       "       'shahrukh khan s performance and sanjay leela bhansali s exceptional movie skill made this movie interesting let s',\n",
       "       'the breathtaking performance of duo of shahrukh khan and aishwarya rai s movie ha completed year this is such',\n",
       "       'truly one of the best film of sanjay leela bhansaali and actor shahrukh khan the music wa one of the usp yearsofdevdas',\n",
       "       'no one could have justified the role of devdas better than srk god of acting for a reason shahrukh khan a dev',\n",
       "       'the director of this film wa sanjay leela bhansali who directed this film my favorite actor in this film wa sha',\n",
       "       'iam south indian recently watched devdas became a fan of aishwarya rai shahrukh khan sanjay leela bhansali',\n",
       "       'i lob the movie with my sister shahrukh khan dont understand wt happn with him',\n",
       "       'shahrukh khan in the early s will always remain special and superior alwaysss',\n",
       "       'kuch kuch hota hai i laugh now when i see shahrukh khan cry in the climax ek balti aansu aese kon rota',\n",
       "       'only because of shahrukh khan bollywood is famous abroad',\n",
       "       'yearsofdevdas year of devdas epic classic a masterpiece acting given by shahrukh khan',\n",
       "       'year of devdas epic classic a masterpiece acting given by shahrukh khan goldenyearsofdevdas srk',\n",
       "       'and buy a house for r crore close to s bungalow in bandstand read',\n",
       "       'shahrukh khan plz have a look',\n",
       "       'shahrukh khan daughter suhana khan look pretty in short black dress at her dance class',\n",
       "       'i really appreciate the spontaneous gesture by shahrukh khan which wa apparently not part of script',\n",
       "       'thalapathy vijay won t charge money for working with shah rukh khan in jawan thalapathy vijay put such a condition',\n",
       "       'babar azam himself can t play a better cover drive than this like shahrukh khan can t make another devdas masterpi',\n",
       "       'find me a handsome shahrukh khan',\n",
       "       'cinehub with kind of opening at box office hindi film are getting we can t be confident despite shahrukh kha',\n",
       "       'shahrukh khan ke fan v na technical expert h so they watch srk movie on telegram and avoid multiplex or theater',\n",
       "       'only shahrukh khan can look hot without beard',\n",
       "       'shahrukh khan gave a perfect tribute to his idol dilip saheb in the form of devdas it wa made on the budget of',\n",
       "       'meri mehbooba song pardes shahrukh khan mahima kumar sanu amp alka via fa',\n",
       "       'chak de india make my cry i love me sum shahrukh khan',\n",
       "       'i can never get tired of shahrukh khan s old film king fr',\n",
       "       'this scene wa so intense this devdas is a masterpiece and the performance of shahrukh khan wa top notch',\n",
       "       'namir shahrukh khan is way toooo good to be compared with some of his contemporary this scene',\n",
       "       'you know i ve seen this clip at least a time and everytime i see it his perform',\n",
       "       'jameel shahrukh khan movie',\n",
       "       'it s one of the movie which i don t end up watching more often like other movie of his the pain the anger the he',\n",
       "       'shahrukh khan s dialogue saying my name is khan and i m not a terrorist se khyal aaya i m a boy and so',\n",
       "       'my cab driver is a somalian guy living in stockholm for year and is singing kuch kuch hota hai also say shahr',\n",
       "       'mai bachpan ki baat kar raha tha i liked kkr because shahrukh khan korbo lorbo jeetbo music video mai tha',\n",
       "       'is this what is called success getting to someone s head tom cruise tom hank etc are super successful actor b',\n",
       "       'salman khan wa the first choice for shahrukh khan s role in devdas and shahrukh wa the first choice for salman k',\n",
       "       'they did it with pathaan a well but then again it s shahrukh khan',\n",
       "       'rocketry cr zero cr jhms cr dearzindagi cr fan cr let s see if laalsinghchaddha ca',\n",
       "       'one of my favourite just can not forgot the dialogue fateh tejo main hun na tejo shahrukh khan ho tum m',\n",
       "       'i blame disney movie shahrukh khan s movie and k drama for setting unrealistic romantic standard and expectation',\n",
       "       'beautiful mr shahrukh khan',\n",
       "       'once shahrukh khan said you have to be rich if you want to say philosophical word you just proved it',\n",
       "       'bjp i m not interested in aamir khan s film and never see his film but shahrukh s film are interesting',\n",
       "       'shahrukh khan wa a pleasant surprise nice to see him in a good movie after chuk de india congratula',\n",
       "       'started career with b bairi piya with shahrukh khan x aishwarya n releasing b baarish aayi hai on the occasi',\n",
       "       'they call me the shahrukh khan of dilwale',\n",
       "       'and these day shahrukh khan song are healing the mind divyavisionquotes musicheals musiclover listeningtomusic shahrukhkhan',\n",
       "       'is it shahrukh khan s sidekick or what',\n",
       "       'the fact alia never did film with any superstar except shahrukh khan that too wa extended cameo aliabhatt',\n",
       "       'female version of shahrukh khan',\n",
       "       'rasgulla i blame shahrukh khan',\n",
       "       'i mean it doesnt matter only if it shahrukh khan',\n",
       "       'srk nadianadim bollywood nadia nadim reveals how shahrukh khan s iconic dialogue still help her to rejuvenate',\n",
       "       'would people be a crazed about p if they had cast shahrukh amir or salman khan instead of parthiban jayam rav',\n",
       "       'if i would be there i wouldn t have done that allah k ghar gaye ho ji maqsad se usi pe focus rakh',\n",
       "       'i would be lying if i say that i did not want to be an actor i always wanted to do something in bollywood a a chi'],\n",
       "      dtype=object)"
      ]
     },
     "execution_count": 25,
     "metadata": {},
     "output_type": "execute_result"
    }
   ],
   "source": [
    "tweet_df['cleaned_data'].values"
   ]
  },
  {
   "cell_type": "markdown",
   "id": "bcaee80d",
   "metadata": {},
   "source": [
    "- Analyze the text carefully to observe what changes are made.\n",
    "- Now the next and the last step to clean the data is to remove stop words from it.\n",
    "- Stop words are the English words that do not add much value to the sentences. They can be safely ignored without sacrificing the meaning of the sentence. For example: The words such as :- the, he, she, is etc. are stop words.\n",
    "- To remove such words from the text data define a function and remove all the stop words from the text."
   ]
  },
  {
   "cell_type": "code",
   "execution_count": 26,
   "id": "ccd8e1c4",
   "metadata": {},
   "outputs": [],
   "source": [
    "def remove_stopwords(text):\n",
    "    text_tokens = word_tokenize(text)\n",
    "    tokens = [word for word in text_tokens if not word in set(stopwords.words('english')) ]\n",
    "    token_text = ' '.join(tokens)\n",
    "    return token_text\n",
    "\n",
    "tweet_df['cleaned_data'] = tweet_df['cleaned_data'].apply(remove_stopwords)"
   ]
  },
  {
   "cell_type": "code",
   "execution_count": 27,
   "id": "e3f332c6",
   "metadata": {},
   "outputs": [
    {
     "data": {
      "text/html": [
       "<div>\n",
       "<style scoped>\n",
       "    .dataframe tbody tr th:only-of-type {\n",
       "        vertical-align: middle;\n",
       "    }\n",
       "\n",
       "    .dataframe tbody tr th {\n",
       "        vertical-align: top;\n",
       "    }\n",
       "\n",
       "    .dataframe thead th {\n",
       "        text-align: right;\n",
       "    }\n",
       "</style>\n",
       "<table border=\"1\" class=\"dataframe\">\n",
       "  <thead>\n",
       "    <tr style=\"text-align: right;\">\n",
       "      <th></th>\n",
       "      <th>0</th>\n",
       "      <th>cleaned_data</th>\n",
       "    </tr>\n",
       "  </thead>\n",
       "  <tbody>\n",
       "    <tr>\n",
       "      <th>0</th>\n",
       "      <td>Watch: Shehnaaz Gill grooves to this Shah Rukh...</td>\n",
       "      <td>watch shehnaaz gill groove shah rukh khan song...</td>\n",
       "    </tr>\n",
       "    <tr>\n",
       "      <th>1</th>\n",
       "      <td>NEW IG REEL \\nBabieee continues with Shahrukh ...</td>\n",
       "      <td>new ig reel babieee continues shahrukh khan so...</td>\n",
       "    </tr>\n",
       "    <tr>\n",
       "      <th>2</th>\n",
       "      <td>#ShehnaazGiII recreates a scene from this #Sha...</td>\n",
       "      <td>shehnaazgiii recreates scene shahrukhkhan movi...</td>\n",
       "    </tr>\n",
       "    <tr>\n",
       "      <th>3</th>\n",
       "      <td>Two greatest assets of our country all sanghis...</td>\n",
       "      <td>two greatest asset country sanghis insecure ta...</td>\n",
       "    </tr>\n",
       "    <tr>\n",
       "      <th>4</th>\n",
       "      <td>@SRKz_Knight @SandipB28369874 @iamsrk Love you...</td>\n",
       "      <td>knight love mr shahrukh khan</td>\n",
       "    </tr>\n",
       "  </tbody>\n",
       "</table>\n",
       "</div>"
      ],
      "text/plain": [
       "                                                   0  \\\n",
       "0  Watch: Shehnaaz Gill grooves to this Shah Rukh...   \n",
       "1  NEW IG REEL \\nBabieee continues with Shahrukh ...   \n",
       "2  #ShehnaazGiII recreates a scene from this #Sha...   \n",
       "3  Two greatest assets of our country all sanghis...   \n",
       "4  @SRKz_Knight @SandipB28369874 @iamsrk Love you...   \n",
       "\n",
       "                                        cleaned_data  \n",
       "0  watch shehnaaz gill groove shah rukh khan song...  \n",
       "1  new ig reel babieee continues shahrukh khan so...  \n",
       "2  shehnaazgiii recreates scene shahrukhkhan movi...  \n",
       "3  two greatest asset country sanghis insecure ta...  \n",
       "4                       knight love mr shahrukh khan  "
      ]
     },
     "execution_count": 27,
     "metadata": {},
     "output_type": "execute_result"
    }
   ],
   "source": [
    "tweet_df.head()"
   ]
  },
  {
   "cell_type": "markdown",
   "id": "09e19d7d",
   "metadata": {},
   "source": [
    "- After applying it to the data, now we can observe that all the stop words have been removed from the text data.\n",
    "- Now our text data is ready and clean.\n",
    "- We are good to create a Sentiment Analyzer Engine."
   ]
  },
  {
   "cell_type": "markdown",
   "id": "a8527b76",
   "metadata": {},
   "source": [
    "## Sentiment Analysis"
   ]
  },
  {
   "cell_type": "markdown",
   "id": "6f3cb91c",
   "metadata": {},
   "source": [
    "- We are going to use the library called “textblob” to find the sentiment of the tweets.\n",
    "- Textblob has a function called “sentiment” which returns polarity and subjectivity.\n",
    "- We are interested only in polarity for now."
   ]
  },
  {
   "cell_type": "markdown",
   "id": "bfbb44b4",
   "metadata": {},
   "source": [
    "- Polarity is the expression which determines the sentimental aspect of an opinion. The sentiment polarity can be determined as positive, negative and neutral.\n",
    "\n",
    "- Polarity lies between minus one to plus one. Where plus one means the positive sentiment,  Minus one means the negative sentiment and, Zero means the neutral sentiment."
   ]
  },
  {
   "cell_type": "code",
   "execution_count": 28,
   "id": "16cf0994",
   "metadata": {},
   "outputs": [],
   "source": [
    "# Lets calculate the polarity of the reviews\n",
    "\n",
    "def calculate_polarity(text):\n",
    "    textblob = TextBlob(str(text))\n",
    "    pol = textblob.sentiment.polarity\n",
    "    if (pol == 0):\n",
    "        return 'Neutral'\n",
    "    elif (pol > 0 and pol <= 0.3):\n",
    "        return 'Weakly Positive'\n",
    "    elif (pol > 0.3 and pol <= 0.6):\n",
    "        return 'Positive'\n",
    "    elif (pol > 0.6 and pol <= 1):\n",
    "        return 'Strongly Positive'\n",
    "    elif (pol > -0.3 and pol <= 0):\n",
    "        return 'Weakly Negative'\n",
    "    elif (pol > -0.6 and pol <= -0.3):\n",
    "        return 'Negative'\n",
    "    elif (pol > -1 and pol <= -0.6):\n",
    "        return 'Strongly Negative'\n",
    "    \n",
    "tweet_df['polarity'] = tweet_df['cleaned_data'].apply(calculate_polarity)"
   ]
  },
  {
   "cell_type": "code",
   "execution_count": 29,
   "id": "6a1e9d46",
   "metadata": {},
   "outputs": [
    {
     "data": {
      "text/plain": [
       "Neutral              129\n",
       "Positive              57\n",
       "Weakly Positive       56\n",
       "Strongly Positive     23\n",
       "Weakly Negative       15\n",
       "Negative              13\n",
       "Strongly Negative      4\n",
       "Name: polarity, dtype: int64"
      ]
     },
     "execution_count": 29,
     "metadata": {},
     "output_type": "execute_result"
    }
   ],
   "source": [
    "tweet_df.polarity.value_counts()"
   ]
  },
  {
   "cell_type": "markdown",
   "id": "c61565ef",
   "metadata": {},
   "source": [
    "- Looking at the output,we can see that we have got the sentiment of each and every tweet.\n",
    "\n",
    "- Now, we will also find out the average reaction of all the people.\n",
    "- To do so, we will calculate the total number of tweets with negative, positive, weakly positive etc. sentiment and will also find out the total polarity of all the tweets."
   ]
  },
  {
   "cell_type": "code",
   "execution_count": 31,
   "id": "c49c877c",
   "metadata": {},
   "outputs": [],
   "source": [
    "neutral = 0 \n",
    "wpositive = 0\n",
    "spositive = 0\n",
    "positive = 0\n",
    "wnegative = 0\n",
    "snegative = 0\n",
    "negative = 0\n",
    "polarity = 0\n",
    "\n",
    "for i in range(0,300):\n",
    "    textblob = TextBlob(str(tweet_df['cleaned_data'][i]))\n",
    "    polarity += textblob.sentiment.polarity\n",
    "    pol = textblob.sentiment.polarity\n",
    "    if (pol == 0):\n",
    "        neutral +=1\n",
    "    elif (pol > 0 and pol <= 0.3):\n",
    "        wpositive +=1\n",
    "    elif (pol > 0.3 and pol <= 0.6):\n",
    "        positive +=1\n",
    "    elif (pol > 0.6 and pol <= 1):\n",
    "        spositive +=1\n",
    "    elif (pol > -0.3 and pol <= 0):\n",
    "        wnegative += 1\n",
    "    elif (pol > -0.6 and pol <= -0.3):\n",
    "        negative += 1\n",
    "    elif (pol > -1 and pol <= -0.6):\n",
    "        snegative += 1\n",
    "        "
   ]
  },
  {
   "cell_type": "markdown",
   "id": "003722c4",
   "metadata": {},
   "source": [
    "- After executing this code, find out the average reaction. We have the total number of tweets with us and the total polarity of all the tweets.\n",
    "- To find out the average polarity, we just need to divide the total polarity by the number of tweets. And here we get the average reaction on all the tweets."
   ]
  },
  {
   "cell_type": "code",
   "execution_count": 32,
   "id": "674ddf71",
   "metadata": {},
   "outputs": [
    {
     "data": {
      "text/plain": [
       "0.13139538840788845"
      ]
     },
     "execution_count": 32,
     "metadata": {},
     "output_type": "execute_result"
    }
   ],
   "source": [
    "polarity = polarity/NoOfTerms\n",
    "polarity"
   ]
  },
  {
   "cell_type": "markdown",
   "id": "2c5eb9c2",
   "metadata": {},
   "source": [
    "- Similarly, we can find out the percentage of people reacting positively, negatively etc.\n",
    "- For this, we create a function to find out the percentage and then calculate the percentage of all the reactions."
   ]
  },
  {
   "cell_type": "code",
   "execution_count": 33,
   "id": "42f3cce1",
   "metadata": {},
   "outputs": [],
   "source": [
    "def percentage(part, whole):\n",
    "    temp = 100 * float(part) / float(whole)\n",
    "    return format(temp, '.2f')"
   ]
  },
  {
   "cell_type": "code",
   "execution_count": 39,
   "id": "adef0164",
   "metadata": {},
   "outputs": [],
   "source": [
    "# finding the average of how people are reacting\n",
    "\n",
    "neutral = percentage(neutral, NoOfTerms) \n",
    "wpositive = percentage(wpositive, NoOfTerms) \n",
    "spositive = percentage(spositive, NoOfTerms) \n",
    "positive = percentage(positive, NoOfTerms) \n",
    "wnegative = percentage(wnegative, NoOfTerms) \n",
    "snegative = percentage(snegative, NoOfTerms) \n",
    "negative = percentage(negative, NoOfTerms) "
   ]
  },
  {
   "cell_type": "code",
   "execution_count": 55,
   "id": "a7868075",
   "metadata": {},
   "outputs": [
    {
     "data": {
      "text/plain": [
       "'4.33'"
      ]
     },
     "execution_count": 55,
     "metadata": {},
     "output_type": "execute_result"
    }
   ],
   "source": [
    "negative"
   ]
  },
  {
   "cell_type": "markdown",
   "id": "597734ed",
   "metadata": {},
   "source": [
    "- We have already calculated the polarity of each and every tweet and now it’s time to print our results.\n",
    "- First print the general report which is:- what is the general reaction of all the people reacting to the searched term, which we calculated by using the total polarity divided by the number of tweets.\n",
    "- And then the detailed report:- What percentage of tweets are positive, what percentage of tweets are weakly positive, and so on."
   ]
  },
  {
   "cell_type": "code",
   "execution_count": 56,
   "id": "4a0ebffa",
   "metadata": {},
   "outputs": [
    {
     "name": "stdout",
     "output_type": "stream",
     "text": [
      "How people are reacting on Shahrukh Khan by analysing 300 tweets.\n",
      "\n",
      "-------------------------------------------------------------------------------------------\n",
      "\n",
      "General Report: \n",
      "Weakly Positive\n",
      "\n",
      "--------------------------------------------------------------------------------------------\n",
      "\n",
      "Detailed Report: \n",
      "19.00% people thought it was positive\n",
      "18.67% people thought it was weakly positive\n",
      "7.67% people thought it was strongly positive\n",
      "4.33% people thought it was negative\n",
      "5.00% people thought it was weakly negative\n",
      "1.33% people thought it was strongly negative\n",
      "43.00% people thought it was neutral\n"
     ]
    }
   ],
   "source": [
    "# printing the data\n",
    "print(\"How people are reacting on \" + searchTerm + \" by analysing \" + str(NoOfTerms) + \" tweets.\")\n",
    "print()\n",
    "print(\"-------------------------------------------------------------------------------------------\")\n",
    "print()\n",
    "print('General Report: ')\n",
    "\n",
    "if (polarity == 0):\n",
    "    print('Neutral')\n",
    "elif (polarity > 0 and polarity <= 0.3):\n",
    "    print('Weakly Positive')\n",
    "elif (polarity > 0.3 and polarity <= 0.6):\n",
    "    print('Positive')\n",
    "elif (polarity > 0.6 and polarity <= 1):\n",
    "    print('Strongly Positive')\n",
    "elif (polarity > -0.3 and polarity <= 0):\n",
    "    print('Weakly Negative')\n",
    "elif (polarity > -0.6 and polarity <= -0.3):\n",
    "    print('Negative')\n",
    "elif (polarity > -1 and polarity <= -0.6):\n",
    "    print('Strongly Negative')\n",
    "    \n",
    "print()\n",
    "print(\"--------------------------------------------------------------------------------------------\")\n",
    "print()\n",
    "print('Detailed Report: ')\n",
    "print(str(positive) + \"% people thought it was positive\")\n",
    "print(str(wpositive) + \"% people thought it was weakly positive\")\n",
    "print(str(spositive) + \"% people thought it was strongly positive\")\n",
    "print(str(negative) + \"% people thought it was negative\")\n",
    "print(str(wnegative) + \"% people thought it was weakly negative\")\n",
    "print(str(snegative) + \"% people thought it was strongly negative\")\n",
    "print(str(neutral) + \"% people thought it was neutral\")"
   ]
  },
  {
   "cell_type": "code",
   "execution_count": 57,
   "id": "21875c78",
   "metadata": {},
   "outputs": [],
   "source": [
    "sizes = [positive,wpositive,spositive,neutral,negative,wnegative,snegative]\n",
    "colors = ['yellowgreen','lightgreen','darkgreen','gold','red','lightsalmon','darkred']\n",
    "labels = ['Positive [' + str(positive)+ '%]',\n",
    "         'Weakly Positive [' + str(wpositive)+ '%]',\n",
    "         'Strongly Positive [' + str(spositive)+ '%]',\n",
    "         'Neutral [' + str(neutral)+ '%]',\n",
    "         'Negative [' + str(negative)+ '%]',\n",
    "         'Weakly Negative [' + str(wnegative)+ '%]',\n",
    "         'Strongly Negative [' + str(snegative)+ '%]'\n",
    "         ]"
   ]
  },
  {
   "cell_type": "code",
   "execution_count": 58,
   "id": "4c3a3101",
   "metadata": {},
   "outputs": [
    {
     "data": {
      "image/png": "[encoded data removed]",
      "text/plain": [
       "<Figure size 432x288 with 1 Axes>"
      ]
     },
     "metadata": {},
     "output_type": "display_data"
    }
   ],
   "source": [
    "plt.pie(sizes,labels=labels,colors=colors)\n",
    "plt.legend(labels,loc= 'best')\n",
    "plt.title(\"How people are reacting on \" + searchTerm + \" by analysing \" + str(NoOfTerms) + \" tweets.\")\n",
    "plt.axis('equal')\n",
    "plt.tight_layout()\n",
    "plt.show()"
   ]
  },
  {
   "cell_type": "markdown",
   "id": "2b3a68c5",
   "metadata": {},
   "source": [
    "- From the above graph we could see 43% reviews are Neutral (i.e polarity of the reviews is 0).\n",
    "- 18.67% reviews are Weakly positive (i.e polarity of the reviews is between 0 to 0.3)\n",
    "- 19% reviews are Positive (i.e polarity of the reviews is between 0.3 to 0.6)"
   ]
  },
  {
   "cell_type": "code",
   "execution_count": null,
   "id": "0a29cee3",
   "metadata": {},
   "outputs": [],
   "source": []
  }
 ],
 "metadata": {
  "kernelspec": {
   "display_name": "Python 3 (ipykernel)",
   "language": "python",
   "name": "python3"
  },
  "language_info": {
   "codemirror_mode": {
    "name": "ipython",
    "version": 3
   },
   "file_extension": ".py",
   "mimetype": "text/x-python",
   "name": "python",
   "nbconvert_exporter": "python",
   "pygments_lexer": "ipython3",
   "version": "3.9.7"
  }
 },
 "nbformat": 4,
 "nbformat_minor": 5
}
